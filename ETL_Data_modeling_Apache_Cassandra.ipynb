{
 "cells": [
  {
   "cell_type": "markdown",
   "id": "0e522887",
   "metadata": {},
   "source": [
    "# ETL pipeline -- Data modeling with apache cassandra"
   ]
  },
  {
   "cell_type": "code",
   "execution_count": 1,
   "id": "5fae960b",
   "metadata": {},
   "outputs": [],
   "source": [
    "import os,glob\n",
    "import numpy as np\n",
    "import pandas as pd\n",
    "import json\n",
    "import datetime,time"
   ]
  },
  {
   "cell_type": "code",
   "execution_count": 15,
   "id": "bc5f2495",
   "metadata": {},
   "outputs": [],
   "source": [
    "from cassandra.cluster import Cluster"
   ]
  },
  {
   "cell_type": "markdown",
   "id": "4abc21f5",
   "metadata": {},
   "source": [
    "## Reading Data from csv files"
   ]
  },
  {
   "cell_type": "code",
   "execution_count": 14,
   "id": "f7a3c56a",
   "metadata": {},
   "outputs": [
    {
     "data": {
      "text/html": [
       "<div>\n",
       "<style scoped>\n",
       "    .dataframe tbody tr th:only-of-type {\n",
       "        vertical-align: middle;\n",
       "    }\n",
       "\n",
       "    .dataframe tbody tr th {\n",
       "        vertical-align: top;\n",
       "    }\n",
       "\n",
       "    .dataframe thead th {\n",
       "        text-align: right;\n",
       "    }\n",
       "</style>\n",
       "<table border=\"1\" class=\"dataframe\">\n",
       "  <thead>\n",
       "    <tr style=\"text-align: right;\">\n",
       "      <th></th>\n",
       "      <th>artist</th>\n",
       "      <th>firstName</th>\n",
       "      <th>gender</th>\n",
       "      <th>itemInSession</th>\n",
       "      <th>lastName</th>\n",
       "      <th>length</th>\n",
       "      <th>level</th>\n",
       "      <th>location</th>\n",
       "      <th>sessionId</th>\n",
       "      <th>song</th>\n",
       "      <th>userId</th>\n",
       "    </tr>\n",
       "  </thead>\n",
       "  <tbody>\n",
       "    <tr>\n",
       "      <th>5534</th>\n",
       "      <td>Hans Zimmer_ James Newton Howard</td>\n",
       "      <td>Kinsley</td>\n",
       "      <td>F</td>\n",
       "      <td>8</td>\n",
       "      <td>Young</td>\n",
       "      <td>265.50812</td>\n",
       "      <td>paid</td>\n",
       "      <td>Red Bluff, CA</td>\n",
       "      <td>759</td>\n",
       "      <td>Nycteris</td>\n",
       "      <td>85.0</td>\n",
       "    </tr>\n",
       "    <tr>\n",
       "      <th>243</th>\n",
       "      <td>Hardline</td>\n",
       "      <td>Matthew</td>\n",
       "      <td>M</td>\n",
       "      <td>4</td>\n",
       "      <td>Jones</td>\n",
       "      <td>234.73587</td>\n",
       "      <td>paid</td>\n",
       "      <td>Janesville-Beloit, WI</td>\n",
       "      <td>439</td>\n",
       "      <td>Everything</td>\n",
       "      <td>36.0</td>\n",
       "    </tr>\n",
       "  </tbody>\n",
       "</table>\n",
       "</div>"
      ],
      "text/plain": [
       "                                artist firstName gender  itemInSession  \\\n",
       "5534  Hans Zimmer_ James Newton Howard   Kinsley      F              8   \n",
       "243                           Hardline   Matthew      M              4   \n",
       "\n",
       "     lastName     length level               location  sessionId        song  \\\n",
       "5534    Young  265.50812  paid          Red Bluff, CA        759    Nycteris   \n",
       "243     Jones  234.73587  paid  Janesville-Beloit, WI        439  Everything   \n",
       "\n",
       "      userId  \n",
       "5534    85.0  \n",
       "243     36.0  "
      ]
     },
     "execution_count": 14,
     "metadata": {},
     "output_type": "execute_result"
    }
   ],
   "source": [
    "data_path = 'E:/Web/Dataset/Event data/event_datafile_new.csv'\n",
    "\n",
    "dataset = pd.read_csv(data_path)\n",
    "dataset.sample(2)"
   ]
  },
  {
   "cell_type": "markdown",
   "id": "0ded948d",
   "metadata": {},
   "source": [
    "## Data modeling"
   ]
  },
  {
   "cell_type": "markdown",
   "id": "15f27c42",
   "metadata": {},
   "source": [
    "### create connection"
   ]
  },
  {
   "cell_type": "code",
   "execution_count": 18,
   "id": "b45267c6",
   "metadata": {},
   "outputs": [],
   "source": [
    "cluster = Cluster()\n",
    "session = cluster.connect()"
   ]
  },
  {
   "cell_type": "markdown",
   "id": "ce8b36c6",
   "metadata": {},
   "source": [
    "### create keyspace"
   ]
  },
  {
   "cell_type": "code",
   "execution_count": 24,
   "id": "8938f762",
   "metadata": {
    "scrolled": true
   },
   "outputs": [
    {
     "data": {
      "text/plain": [
       "<cassandra.cluster.ResultSet at 0x19305cada20>"
      ]
     },
     "execution_count": 24,
     "metadata": {},
     "output_type": "execute_result"
    }
   ],
   "source": [
    "query = \"\"\"\n",
    "            create keyspace if not exists sparkify\n",
    "            with replication =\n",
    "            { 'class':'SimpleStrategy' ,'replication_factor':1}\n",
    "        \"\"\"\n",
    "session.execute(query)"
   ]
  },
  {
   "cell_type": "markdown",
   "id": "e8e8af20",
   "metadata": {},
   "source": [
    "### set keyspace"
   ]
  },
  {
   "cell_type": "code",
   "execution_count": 25,
   "id": "9a8b6cbd",
   "metadata": {},
   "outputs": [],
   "source": [
    "session.set_keyspace('sparkify')"
   ]
  },
  {
   "cell_type": "markdown",
   "id": "80282607",
   "metadata": {},
   "source": [
    "### Now we need to create tables to run the following queries. Remember, with Apache Cassandra you model the database tables on the queries you want to run.\n",
    "### Create queries to ask the following three questions of the data\n",
    "### 1. Give me the artist, song title and song's length in the music app history that was heard during sessionId = 338, and itemInSession = 4\n",
    "### 2. Give me only the following: name of artist, song (sorted by itemInSession) and user (first and last name) for userid = 10, sessionid = 182\n",
    "### 3. Give me every user name (first and last) in my music app history who listened to the song 'All Hands Against His Own'"
   ]
  },
  {
   "cell_type": "code",
   "execution_count": 90,
   "id": "b3a5e5be",
   "metadata": {},
   "outputs": [
    {
     "data": {
      "text/plain": [
       "<cassandra.cluster.ResultSet at 0x19305bdfc88>"
      ]
     },
     "execution_count": 90,
     "metadata": {},
     "output_type": "execute_result"
    }
   ],
   "source": [
    "query = \"\"\"\n",
    "            create table if not exists session(\n",
    "                artist text,\n",
    "                song text,\n",
    "                length decimal,\n",
    "                session_id int,\n",
    "                itemInSession int,\n",
    "                primary key (Session_id,itemInSession)\n",
    "            );\n",
    "        \"\"\"\n",
    "session.execute(query)\n",
    "\n",
    "query = \"\"\"\n",
    "            create table if not exists albums(\n",
    "                artist text,\n",
    "                song text,\n",
    "                first_name text,\n",
    "                last_name text,\n",
    "                user_id float,\n",
    "                session_id int,\n",
    "                itemInSession int,\n",
    "                primary key ((user_id,session_id),itemInSession)\n",
    "            );\n",
    "        \"\"\"\n",
    "session.execute(query)\n",
    "\n",
    "query = \"\"\"\n",
    "            create table if not exists users(\n",
    "                first_name text,\n",
    "                last_name text,\n",
    "                user_id float,\n",
    "                song text,\n",
    "                primary key (song,user_id)\n",
    "            );\n",
    "        \"\"\"\n",
    "session.execute(query)"
   ]
  },
  {
   "cell_type": "markdown",
   "id": "191f74ee",
   "metadata": {},
   "source": [
    "## insert into tables"
   ]
  },
  {
   "cell_type": "markdown",
   "id": "69dc7701",
   "metadata": {},
   "source": [
    "### ------------- insert into session table ----------------"
   ]
  },
  {
   "cell_type": "code",
   "execution_count": 46,
   "id": "39420ac7",
   "metadata": {},
   "outputs": [],
   "source": [
    "session_data = dataset[['artist','song','length','sessionId','itemInSession']].values.tolist()\n",
    "query = \"insert into session (artist,song,length,session_id,itemInSession) values (%s,%s,%s,%s,%s)\"\n",
    "\n",
    "for row in session_data:\n",
    "    session.execute(query,row)"
   ]
  },
  {
   "cell_type": "markdown",
   "id": "5e1d4252",
   "metadata": {},
   "source": [
    "### validate query #1"
   ]
  },
  {
   "cell_type": "code",
   "execution_count": 51,
   "id": "c680189a",
   "metadata": {
    "scrolled": true
   },
   "outputs": [
    {
     "name": "stdout",
     "output_type": "stream",
     "text": [
      "Row(artist='Faithless', song='Music Matters (Mark Knight Dub)', length=Decimal('495.3073'))\n"
     ]
    }
   ],
   "source": [
    "query = \"select artist,song,length from session where Session_id = 338 and itemInSession = 4\"\n",
    "rows  = session.execute(query)\n",
    "for row in rows:\n",
    "    print(row)"
   ]
  },
  {
   "cell_type": "markdown",
   "id": "9987be85",
   "metadata": {},
   "source": [
    "### ---------------- insert into albums table -----------------"
   ]
  },
  {
   "cell_type": "code",
   "execution_count": 91,
   "id": "acad43c5",
   "metadata": {},
   "outputs": [],
   "source": [
    "albums_data = dataset[['artist','song','firstName','lastName','userId','sessionId','itemInSession']].values.tolist()\n",
    "query = \"insert into albums (artist,song,first_name,last_name,user_id,session_id,itemInSession) values (%s,%s,%s,%s,%s,%s,%s)\"\n",
    "\n",
    "for row in albums_data:\n",
    "    session.execute(query,row)"
   ]
  },
  {
   "cell_type": "markdown",
   "id": "5fb1ff1c",
   "metadata": {},
   "source": [
    "### validate query #2"
   ]
  },
  {
   "cell_type": "code",
   "execution_count": 116,
   "id": "0fc445ca",
   "metadata": {
    "scrolled": true
   },
   "outputs": [
    {
     "name": "stdout",
     "output_type": "stream",
     "text": [
      "Row(artist='Down To The Bone', song=\"Keep On Keepin' On\", first_name='Sylvie', last_name='Cruz')\n",
      "Row(artist='Three Drives', song='Greece 2000', first_name='Sylvie', last_name='Cruz')\n",
      "Row(artist='Sebastien Tellier', song='Kilometer', first_name='Sylvie', last_name='Cruz')\n",
      "Row(artist='Lonnie Gordon', song='Catch You Baby (Steve Pitron & Max Sanna Radio Edit)', first_name='Sylvie', last_name='Cruz')\n"
     ]
    }
   ],
   "source": [
    "query = \"select artist,song,first_name,last_name from albums where user_id = 10 and session_id = 182\"\n",
    "rows  = session.execute(query)\n",
    "for row in rows:\n",
    "    print(row)"
   ]
  },
  {
   "cell_type": "markdown",
   "id": "baff2c76",
   "metadata": {},
   "source": [
    "### ----------------- insert into users table ----------------------"
   ]
  },
  {
   "cell_type": "code",
   "execution_count": 98,
   "id": "32debd60",
   "metadata": {},
   "outputs": [],
   "source": [
    "users_data = dataset[['firstName','lastName','userId','song']].values.tolist()\n",
    "query = \"insert into users (first_name,last_name,user_id,song) values (%s,%s,%s,%s)\"\n",
    "\n",
    "for row in users_data:\n",
    "    session.execute(query,row)"
   ]
  },
  {
   "cell_type": "markdown",
   "id": "4b04cb33",
   "metadata": {},
   "source": [
    "### validate query #2"
   ]
  },
  {
   "cell_type": "code",
   "execution_count": 111,
   "id": "39419487",
   "metadata": {},
   "outputs": [
    {
     "name": "stdout",
     "output_type": "stream",
     "text": [
      "29.0 Jacqueline Lynch All Hands Against His Own\n",
      "80.0 Tegan Levine All Hands Against His Own\n",
      "95.0 Sara Johnson All Hands Against His Own\n"
     ]
    }
   ],
   "source": [
    "query = \"select user_id,first_name,last_name,song from users where song='All Hands Against His Own'\"\n",
    "rows  = session.execute(query)\n",
    "for row in rows:\n",
    "    print(row.user_id , row.first_name,row.last_name,row.song)"
   ]
  },
  {
   "cell_type": "markdown",
   "id": "47c82a0d",
   "metadata": {},
   "source": [
    "## end connection"
   ]
  },
  {
   "cell_type": "code",
   "execution_count": 117,
   "id": "4a2c4a8b",
   "metadata": {},
   "outputs": [],
   "source": [
    "session.shutdown()\n",
    "cluster.shutdown()"
   ]
  }
 ],
 "metadata": {
  "kernelspec": {
   "display_name": "Python 3",
   "language": "python",
   "name": "python3"
  },
  "language_info": {
   "codemirror_mode": {
    "name": "ipython",
    "version": 3
   },
   "file_extension": ".py",
   "mimetype": "text/x-python",
   "name": "python",
   "nbconvert_exporter": "python",
   "pygments_lexer": "ipython3",
   "version": "3.7.2"
  }
 },
 "nbformat": 4,
 "nbformat_minor": 5
}
